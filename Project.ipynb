{
 "cells": [
  {
   "cell_type": "code",
   "execution_count": null,
   "metadata": {
    "collapsed": true
   },
   "outputs": [],
   "source": [
    "from data_loader import DataLoader\n",
    "from preprocessing import prepare_data"
   ]
  },
  {
   "cell_type": "code",
   "execution_count": null,
   "metadata": {
    "collapsed": true
   },
   "outputs": [],
   "source": [
    "\n",
    "# data file\n",
    "data_file = \"challenge_dataset.xlsx\"\n",
    "\n",
    "# train and test files\n",
    "train_file = \"train.csv\"\n",
    "test_file = \"test.csv\"\n",
    "\n",
    "# test size\n",
    "test_size = 0.2\n",
    "\n",
    "# prepare train and test datasets\n",
    "prepare_data(data_file, train_file, test_file, test_size)\n",
    "\n",
    "# define dataset loader\n",
    "data_loader = DataLoader(train_file, test_file)\n",
    "\n",
    "# Train and evaluate models\n",
    "\n",
    "# Comparison Plot\n"
   ]
  }
 ],
 "metadata": {
  "kernelspec": {
   "display_name": "Python 2",
   "language": "python",
   "name": "python2"
  },
  "language_info": {
   "codemirror_mode": {
    "name": "ipython",
    "version": 2
   },
   "file_extension": ".py",
   "mimetype": "text/x-python",
   "name": "python",
   "nbconvert_exporter": "python",
   "pygments_lexer": "ipython2",
   "version": "2.7.6"
  }
 },
 "nbformat": 4,
 "nbformat_minor": 0
}
