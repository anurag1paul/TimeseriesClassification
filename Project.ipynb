{
 "cells": [
  {
   "cell_type": "markdown",
   "metadata": {},
   "source": [
    "# Multivariate Timeseries Classification\n",
    "\n",
    "In this project we have 205 samples of 89 rows each with 14 different features. The problem is similar to activity recognition and is solved using both traditional machine learning using feature engineering and also, using deep learning using LSTM, CNN1D-LSTM and CNN2D-LSTM. "
   ]
  },
  {
   "cell_type": "markdown",
   "metadata": {},
   "source": [
    "### Import Necessary Files"
   ]
  },
  {
   "cell_type": "code",
   "execution_count": 1,
   "metadata": {},
   "outputs": [
    {
     "name": "stderr",
     "output_type": "stream",
     "text": [
      "Using TensorFlow backend.\n"
     ]
    }
   ],
   "source": [
    "from data_loader import DataLoader\n",
    "from preprocessing import prepare_data\n",
    "from models import FeatureEngineeredModel, DeepLearningModel\n",
    "from utils import plot_confusion_matrix, plot_class_distribution, plot_best_accuracies"
   ]
  },
  {
   "cell_type": "markdown",
   "metadata": {},
   "source": [
    "### Data File"
   ]
  },
  {
   "cell_type": "code",
   "execution_count": 2,
   "metadata": {},
   "outputs": [],
   "source": [
    "data_file = \"challenge_dataset.xlsx\""
   ]
  },
  {
   "cell_type": "markdown",
   "metadata": {},
   "source": [
    "### Train and Test files"
   ]
  },
  {
   "cell_type": "code",
   "execution_count": 3,
   "metadata": {},
   "outputs": [],
   "source": [
    "train_file = \"train.csv\"\n",
    "test_file = \"test.csv\""
   ]
  },
  {
   "cell_type": "markdown",
   "metadata": {},
   "source": [
    "### Test size of 20%"
   ]
  },
  {
   "cell_type": "code",
   "execution_count": 4,
   "metadata": {},
   "outputs": [],
   "source": [
    "test_size = 0.2"
   ]
  },
  {
   "cell_type": "markdown",
   "metadata": {},
   "source": [
    "### Prepare train and test datasets\n",
    "prepare_data() renames \"ID_TestSet\" to \"id\" and splits the data into train and test set and creates two new csv files which are used for training and testing models"
   ]
  },
  {
   "cell_type": "code",
   "execution_count": 5,
   "metadata": {},
   "outputs": [],
   "source": [
    "data = prepare_data(data_file, train_file, test_file, test_size, gen=False)"
   ]
  },
  {
   "cell_type": "markdown",
   "metadata": {},
   "source": [
    "### Visualize the distribution of different classes"
   ]
  },
  {
   "cell_type": "code",
   "execution_count": 6,
   "metadata": {},
   "outputs": [
    {
     "data": {
      "image/png": "[encoded data removed]",
      "text/plain": [
       "<Figure size 432x288 with 1 Axes>"
      ]
     },
     "metadata": {
      "needs_background": "light"
     },
     "output_type": "display_data"
    }
   ],
   "source": [
    "classes = data.groupby(\"goal\").id.count()\n",
    "plot_class_distribution(classes)"
   ]
  },
  {
   "cell_type": "markdown",
   "metadata": {},
   "source": [
    "### Define dataset loader"
   ]
  },
  {
   "cell_type": "code",
   "execution_count": 7,
   "metadata": {},
   "outputs": [],
   "source": [
    "data_loader = DataLoader(train_file, test_file)"
   ]
  },
  {
   "cell_type": "markdown",
   "metadata": {},
   "source": [
    "### Feature Engineered Model\n",
    "\n",
    "FeatureEngineeredModel in ints constructor extracts and selects the relevant features"
   ]
  },
  {
   "cell_type": "code",
   "execution_count": 8,
   "metadata": {},
   "outputs": [
    {
     "name": "stderr",
     "output_type": "stream",
     "text": [
      "Feature Extraction: 100%|██████████| 30/30 [01:26<00:00,  1.22s/it]\n",
      "WARNING:tsfresh.utilities.dataframe_functions:The columns ['bl__fft_coefficient__coeff_45__attr_\"abs\"'\n",
      " 'bl__fft_coefficient__coeff_45__attr_\"angle\"'\n",
      " 'bl__fft_coefficient__coeff_45__attr_\"imag\"' ...\n",
      " 'vz__fft_coefficient__coeff_99__attr_\"angle\"'\n",
      " 'vz__fft_coefficient__coeff_99__attr_\"imag\"'\n",
      " 'vz__fft_coefficient__coeff_99__attr_\"real\"'] did not have any finite values. Filling with zeros.\n"
     ]
    },
    {
     "name": "stdout",
     "output_type": "stream",
     "text": [
      "Selected Features: 578/11116\n"
     ]
    }
   ],
   "source": [
    "X_train, y_train, X_test, y_test, train_ids, test_ids = data_loader.get_train_test_data()\n",
    "traditional_model = FeatureEngineeredModel(X_train, y_train, X_test, y_test, train_ids, test_ids)"
   ]
  },
  {
   "cell_type": "markdown",
   "metadata": {},
   "source": [
    "### Evaluate RandomForest and XGBoost for various num estimators and determine the best model"
   ]
  },
  {
   "cell_type": "code",
   "execution_count": 9,
   "metadata": {},
   "outputs": [
    {
     "name": "stdout",
     "output_type": "stream",
     "text": [
      "Training Random Forest\n",
      "Accuracy: 60.97560975609756% with n_estimators=10\n",
      "Training XGBoost\n",
      "Accuracy: 63.41463414634146% with n_estimators=150\n"
     ]
    }
   ],
   "source": [
    "tm_best_model, tm_best_score = traditional_model.evaluate()"
   ]
  },
  {
   "cell_type": "markdown",
   "metadata": {},
   "source": [
    "### Deep Learning Models - LSTM, CNN1D-LSTM, CNN2D-LSTM"
   ]
  },
  {
   "cell_type": "code",
   "execution_count": 10,
   "metadata": {},
   "outputs": [],
   "source": [
    "X_train, y_train, X_test, y_test, train_ids, test_ids = data_loader.get_train_test_data_norm()\n",
    "deep_learning_model = DeepLearningModel(X_train, y_train, X_test, y_test, train_ids, test_ids)"
   ]
  },
  {
   "cell_type": "markdown",
   "metadata": {},
   "source": [
    "### Training the three deep learning architectures 10 times to get average and best accuracy"
   ]
  },
  {
   "cell_type": "code",
   "execution_count": 11,
   "metadata": {},
   "outputs": [
    {
     "name": "stdout",
     "output_type": "stream",
     "text": [
      "Training LSTM\n",
      "Accuracy: Max:63.41463472785019% Avg:59.756% (+/-3.659)\n",
      "Training CNN1D-LSTM\n",
      "Accuracy: Max:65.85365897271691% Avg:56.341% (+/-6.402)\n",
      "Training CNN2D-LSTM\n",
      "Accuracy: Max:63.41463472785019% Avg:57.073% (+/-4.653)\n"
     ]
    }
   ],
   "source": [
    "dl_best_model, dl_best_score = deep_learning_model.evaluate()"
   ]
  },
  {
   "cell_type": "markdown",
   "metadata": {},
   "source": [
    "### Plot Confusion Matrices"
   ]
  },
  {
   "cell_type": "code",
   "execution_count": 12,
   "metadata": {},
   "outputs": [
    {
     "data": {
      "image/png": "[encoded data removed]",
      "text/plain": [
       "<Figure size 432x288 with 2 Axes>"
      ]
     },
     "metadata": {
      "needs_background": "light"
     },
     "output_type": "display_data"
    }
   ],
   "source": [
    "plot_confusion_matrix(traditional_model.get_confusion_matrix(), classes = [0,1,2], \n",
    "                      title = traditional_model.best_model_name + \" Confusion Matrix\")"
   ]
  },
  {
   "cell_type": "code",
   "execution_count": 13,
   "metadata": {},
   "outputs": [
    {
     "data": {
      "image/png": "[encoded data removed]",
      "text/plain": [
       "<Figure size 432x288 with 2 Axes>"
      ]
     },
     "metadata": {
      "needs_background": "light"
     },
     "output_type": "display_data"
    }
   ],
   "source": [
    "plot_confusion_matrix(deep_learning_model.get_confusion_matrix(), classes = [0,1,2], \n",
    "                      title = deep_learning_model.best_model_name + \" Confusion Matrix\")"
   ]
  },
  {
   "cell_type": "markdown",
   "metadata": {},
   "source": [
    "### Comparison of the Accuracy of the best models of the five algorithms or architectures"
   ]
  },
  {
   "cell_type": "code",
   "execution_count": 14,
   "metadata": {},
   "outputs": [
    {
     "data": {
      "image/png": "[encoded data removed]",
      "text/plain": [
       "<Figure size 640x480 with 1 Axes>"
      ]
     },
     "metadata": {},
     "output_type": "display_data"
    }
   ],
   "source": [
    "model_names = traditional_model.model_names.copy()\n",
    "model_names.extend(deep_learning_model.model_names)\n",
    "accuracies = traditional_model.scores.copy()\n",
    "accuracies.extend(deep_learning_model.scores)\n",
    "\n",
    "plot_best_accuracies(model_names, accuracies)"
   ]
  },
  {
   "cell_type": "code",
   "execution_count": null,
   "metadata": {},
   "outputs": [],
   "source": []
  }
 ],
 "metadata": {
  "kernelspec": {
   "display_name": "Python 3",
   "language": "python",
   "name": "python3"
  },
  "language_info": {
   "codemirror_mode": {
    "name": "ipython",
    "version": 3
   },
   "file_extension": ".py",
   "mimetype": "text/x-python",
   "name": "python",
   "nbconvert_exporter": "python",
   "pygments_lexer": "ipython3",
   "version": "3.6.7"
  }
 },
 "nbformat": 4,
 "nbformat_minor": 1
}
