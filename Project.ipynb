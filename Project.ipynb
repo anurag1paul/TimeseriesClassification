{
 "cells": [
  {
   "cell_type": "code",
   "execution_count": 1,
   "metadata": {},
   "outputs": [
    {
     "name": "stderr",
     "output_type": "stream",
     "text": [
      "Using TensorFlow backend.\n"
     ]
    }
   ],
   "source": [
    "from data_loader import DataLoader\n",
    "from preprocessing import prepare_data\n",
    "from models import FeatureEngineeredModel, DeepLearningModel\n",
    "from utils import plot_confusion_matrix"
   ]
  },
  {
   "cell_type": "code",
   "execution_count": 2,
   "metadata": {},
   "outputs": [],
   "source": [
    "# data file\n",
    "data_file = \"challenge_dataset.xlsx\"\n",
    "\n",
    "# train and test files\n",
    "train_file = \"train.csv\"\n",
    "test_file = \"test.csv\"\n",
    "\n",
    "# test size\n",
    "test_size = 0.2"
   ]
  },
  {
   "cell_type": "code",
   "execution_count": 3,
   "metadata": {},
   "outputs": [],
   "source": [
    "# prepare train and test datasets\n",
    "prepare_data(data_file, train_file, test_file, test_size, gen=False)"
   ]
  },
  {
   "cell_type": "code",
   "execution_count": 4,
   "metadata": {},
   "outputs": [],
   "source": [
    "# define dataset loader\n",
    "data_loader = DataLoader(train_file, test_file)"
   ]
  },
  {
   "cell_type": "code",
   "execution_count": 5,
   "metadata": {},
   "outputs": [
    {
     "name": "stderr",
     "output_type": "stream",
     "text": [
      "Feature Extraction: 100%|██████████| 30/30 [01:08<00:00,  1.00s/it]\n",
      "WARNING:tsfresh.utilities.dataframe_functions:The columns ['bl__fft_coefficient__coeff_45__attr_\"abs\"'\n",
      " 'bl__fft_coefficient__coeff_45__attr_\"angle\"'\n",
      " 'bl__fft_coefficient__coeff_45__attr_\"imag\"' ...\n",
      " 'vz__fft_coefficient__coeff_99__attr_\"angle\"'\n",
      " 'vz__fft_coefficient__coeff_99__attr_\"imag\"'\n",
      " 'vz__fft_coefficient__coeff_99__attr_\"real\"'] did not have any finite values. Filling with zeros.\n"
     ]
    },
    {
     "name": "stdout",
     "output_type": "stream",
     "text": [
      "Selected Features: 578/11116\n"
     ]
    }
   ],
   "source": [
    "# Feature Engineered Model\n",
    "X_train, y_train, X_test, y_test, train_ids, test_ids = data_loader.get_train_test_data()\n",
    "traditional_model = FeatureEngineeredModel(X_train, y_train, X_test, y_test, train_ids, test_ids)"
   ]
  },
  {
   "cell_type": "code",
   "execution_count": 6,
   "metadata": {},
   "outputs": [
    {
     "name": "stdout",
     "output_type": "stream",
     "text": [
      "Training Random Forest\n",
      "Accuracy: 63.41463414634146% with n_estimators=150\n",
      "Training XGBoost\n",
      "Accuracy: 63.41463414634146% with n_estimators=250\n"
     ]
    }
   ],
   "source": [
    "tm_best_model, tm_best_score = traditional_model.evaluate()"
   ]
  },
  {
   "cell_type": "code",
   "execution_count": 7,
   "metadata": {},
   "outputs": [],
   "source": [
    "X_train, y_train, X_test, y_test, train_ids, test_ids = data_loader.get_train_test_data_norm()\n",
    "deep_learning_model = DeepLearningModel(X_train, y_train, X_test, y_test, train_ids, test_ids)"
   ]
  },
  {
   "cell_type": "code",
   "execution_count": 8,
   "metadata": {},
   "outputs": [
    {
     "name": "stdout",
     "output_type": "stream",
     "text": [
      "Training LSTM\n",
      "Accuracy: Max:58.53658594736238% Avg:56.098% (+/-3.779)\n",
      "Training CNN1D-LSTM\n",
      "Accuracy: Max:65.85365897271691% Avg:58.049% (+/-4.729)\n",
      "Training CNN2D-LSTM\n",
      "Accuracy: Max:65.8536591180941% Avg:57.561% (+/-6.829)\n"
     ]
    }
   ],
   "source": [
    "dl_best_model, dl_best_score = deep_learning_model.evaluate()"
   ]
  },
  {
   "cell_type": "code",
   "execution_count": 11,
   "metadata": {},
   "outputs": [
    {
     "data": {
      "image/png": "[encoded data removed]",
      "text/plain": [
       "<Figure size 432x288 with 2 Axes>"
      ]
     },
     "metadata": {
      "needs_background": "light"
     },
     "output_type": "display_data"
    }
   ],
   "source": [
    "plot_confusion_matrix(traditional_model.get_confusion_matrix(), classes = [0,1,2], \n",
    "                      title = \"Engineered Features Confusion Matrix\")"
   ]
  },
  {
   "cell_type": "code",
   "execution_count": 12,
   "metadata": {},
   "outputs": [
    {
     "data": {
      "image/png": "[encoded data removed]",
      "text/plain": [
       "<Figure size 432x288 with 2 Axes>"
      ]
     },
     "metadata": {
      "needs_background": "light"
     },
     "output_type": "display_data"
    }
   ],
   "source": [
    "plot_confusion_matrix(deep_learning_model.get_confusion_matrix(), classes = [0,1,2], \n",
    "                      title = deep_learning_model.best_model_name + \" Confusion Matrix\")"
   ]
  },
  {
   "cell_type": "code",
   "execution_count": null,
   "metadata": {},
   "outputs": [],
   "source": []
  }
 ],
 "metadata": {
  "kernelspec": {
   "display_name": "Python 3",
   "language": "python",
   "name": "python3"
  },
  "language_info": {
   "codemirror_mode": {
    "name": "ipython",
    "version": 3
   },
   "file_extension": ".py",
   "mimetype": "text/x-python",
   "name": "python",
   "nbconvert_exporter": "python",
   "pygments_lexer": "ipython3",
   "version": "3.6.7"
  }
 },
 "nbformat": 4,
 "nbformat_minor": 1
}
